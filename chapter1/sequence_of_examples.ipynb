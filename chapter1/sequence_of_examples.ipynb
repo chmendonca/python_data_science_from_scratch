{
 "cells": [
  {
   "cell_type": "markdown",
   "metadata": {},
   "source": [
    "CHAPTER 1 - INTRODUCTION\n",
    "On this chapter Joel describe very quickly the initial uses of data analysis with an \"real\" example.\n",
    "I advise you to not start executing exercises of this chapter 1 until you have arrived on chapter 4. If you know Pyton programming, there is not a huge problem if you run the examples, but until chapter 3, Joel give us some basics that will help to understand the examples; It was helpful, because he presented his manner of writting code that helped to understand many steps."
   ]
  },
  {
   "cell_type": "code",
   "execution_count": 1,
   "metadata": {},
   "outputs": [
    {
     "name": "stdout",
     "output_type": "stream",
     "text": [
      "[{'id': 0, 'name': 'Hero'}, {'id': 1, 'name': 'Dunn'}, {'id': 2, 'name': 'Sue'}, {'id': 3, 'name': 'Chi'}, {'id': 4, 'name': 'Thor'}, {'id': 5, 'name': 'Clive'}, {'id': 6, 'name': 'Hicks'}, {'id': 7, 'name': 'Devin'}, {'id': 8, 'name': 'Kate'}, {'id': 9, 'name': 'Klein'}]\n"
     ]
    }
   ],
   "source": [
    "'''\n",
    "Instead of \"typing\" the dictionary, I've created the \"users\" from a list of tuples (After reading the chapter 3 it will be possible to create this dictionary from a common list of names!)\n",
    "'''\n",
    "users_list = [(0,'Hero'),(1,'Dunn'),(2,'Sue'),(3,'Chi'),(4,'Thor'),(5,'Clive'),(6,'Hicks'),(7,'Devin'),(8,'Kate'),(9,'Klein')] #list of tuples with the 'users id' and 'usernames'\n",
    "users = [{'id':id_value,'name':username} for id_value,username in users_list] #list comprehension to create the dictionary 'users'\n",
    "print(users)"
   ]
  },
  {
   "cell_type": "code",
   "execution_count": 2,
   "metadata": {},
   "outputs": [],
   "source": [
    "friendship_pairs = [(0,1),(0,2),(1,2),(1,3),(2,3),(3,4),(4,5),(5,6),(5,7),(6,8),(7,8),(8,9)]"
   ]
  },
  {
   "cell_type": "code",
   "execution_count": 3,
   "metadata": {},
   "outputs": [
    {
     "name": "stdout",
     "output_type": "stream",
     "text": [
      "{0: [], 1: [], 2: [], 3: [], 4: [], 5: [], 6: [], 7: [], 8: [], 9: []}\n"
     ]
    }
   ],
   "source": [
    "friendships = {user['id']:[] for user in users} #creating a dict with an empty list to each user (the friends will be appended in the lists for each user)\n",
    "print(friendships)"
   ]
  },
  {
   "cell_type": "code",
   "execution_count": 4,
   "metadata": {},
   "outputs": [
    {
     "name": "stdout",
     "output_type": "stream",
     "text": [
      "{0: [1, 2], 1: [0, 2, 3], 2: [0, 1, 3], 3: [1, 2, 4], 4: [3, 5], 5: [4, 6, 7], 6: [5, 8], 7: [5, 8], 8: [6, 7, 9], 9: [8]}\n"
     ]
    }
   ],
   "source": [
    "for i,j in friendship_pairs: #iterating on each tuple\n",
    "    friendships[i].append(j)\n",
    "    friendships[j].append(i)\n",
    "#if 'user 0' is friend of 'user 1', the inverse is true!\n",
    "\n",
    "print(friendships)"
   ]
  },
  {
   "cell_type": "markdown",
   "metadata": {},
   "source": [
    "What's the average connections number?"
   ]
  },
  {
   "cell_type": "code",
   "execution_count": 5,
   "metadata": {},
   "outputs": [
    {
     "name": "stdout",
     "output_type": "stream",
     "text": [
      "24\n"
     ]
    }
   ],
   "source": [
    "def number_of_friends(user):\n",
    "    '''How many friend does the user have?'''\n",
    "    #print(user)\n",
    "    user_id = user['id']\n",
    "    friend_ids = friendships[user_id]\n",
    "    #print('user_id',user_id,'friend_ids',friend_ids)\n",
    "    return len(friend_ids)\n",
    "    \n",
    "total_connections = sum(number_of_friends(user) for user in users)\n",
    "print(total_connections)"
   ]
  },
  {
   "cell_type": "code",
   "execution_count": 6,
   "metadata": {},
   "outputs": [
    {
     "name": "stdout",
     "output_type": "stream",
     "text": [
      "24\n"
     ]
    }
   ],
   "source": [
    "#other way to calculate the total_connections\n",
    "def number_of_friendships(user):\n",
    "    friends_ids = friendships[user]\n",
    "    return len(friends_ids)\n",
    "\n",
    "total_connections = sum(number_of_friendships(user) for user in friendships)\n",
    "print(total_connections)"
   ]
  },
  {
   "cell_type": "code",
   "execution_count": 7,
   "metadata": {},
   "outputs": [
    {
     "name": "stdout",
     "output_type": "stream",
     "text": [
      "2.4\n"
     ]
    }
   ],
   "source": [
    "num_users = len(users)\n",
    "avg_connections = total_connections / num_users\n",
    "print(avg_connections)"
   ]
  },
  {
   "cell_type": "code",
   "execution_count": 8,
   "metadata": {},
   "outputs": [
    {
     "name": "stdout",
     "output_type": "stream",
     "text": [
      "2.4\n"
     ]
    }
   ],
   "source": [
    "#other way to calculate the avg_connections\n",
    "avg_connections = total_connections / len(friendships)\n",
    "print(avg_connections)"
   ]
  },
  {
   "cell_type": "code",
   "execution_count": null,
   "metadata": {},
   "outputs": [],
   "source": []
  },
  {
   "cell_type": "markdown",
   "metadata": {},
   "source": [
    "Finding people with greater number of friends (more connected)."
   ]
  },
  {
   "cell_type": "code",
   "execution_count": 9,
   "metadata": {},
   "outputs": [
    {
     "name": "stdout",
     "output_type": "stream",
     "text": [
      "[(0, 2), (1, 3), (2, 3), (3, 3), (4, 2), (5, 3), (6, 2), (7, 2), (8, 3), (9, 1)]\n"
     ]
    }
   ],
   "source": [
    "num_of_friends_by_id = [(user['id'],number_of_friends(user)) for user in users]\n",
    "print(num_of_friends_by_id)"
   ]
  },
  {
   "cell_type": "code",
   "execution_count": 10,
   "metadata": {},
   "outputs": [
    {
     "name": "stdout",
     "output_type": "stream",
     "text": [
      "[(0, 2), (1, 3), (2, 3), (3, 3), (4, 2), (5, 3), (6, 2), (7, 2), (8, 3), (9, 1)]\n"
     ]
    }
   ],
   "source": [
    "num_of_friends_by_id = [(user,number_of_friendships(user)) for user in friendships]\n",
    "print(num_of_friends_by_id)"
   ]
  },
  {
   "cell_type": "code",
   "execution_count": 11,
   "metadata": {},
   "outputs": [
    {
     "name": "stdout",
     "output_type": "stream",
     "text": [
      "[(1, 3), (2, 3), (3, 3), (5, 3), (8, 3), (0, 2), (4, 2), (6, 2), (7, 2), (9, 1)]\n"
     ]
    }
   ],
   "source": [
    "num_of_friends_by_id.sort(key=lambda id_and_friends: id_and_friends[1], reverse=True)\n",
    "print(num_of_friends_by_id)"
   ]
  },
  {
   "cell_type": "markdown",
   "metadata": {},
   "source": [
    "Discovering the friends of friends (Data Scients maybe you would know)"
   ]
  },
  {
   "cell_type": "code",
   "execution_count": 12,
   "metadata": {},
   "outputs": [
    {
     "name": "stdout",
     "output_type": "stream",
     "text": [
      "{0: [0, 2, 3, 0, 1, 3]}\n",
      "{1: [1, 2, 0, 1, 3, 1, 2, 4]}\n",
      "{2: [1, 2, 0, 2, 3, 1, 2, 4]}\n",
      "{3: [0, 2, 3, 0, 1, 3, 3, 5]}\n",
      "{4: [1, 2, 4, 4, 6, 7]}\n",
      "{5: [3, 5, 5, 8, 5, 8]}\n",
      "{6: [4, 6, 7, 6, 7, 9]}\n",
      "{7: [4, 6, 7, 6, 7, 9]}\n",
      "{8: [5, 8, 5, 8, 8]}\n",
      "{9: [6, 7, 9]}\n"
     ]
    }
   ],
   "source": [
    "#the lines below are the basic way to find the friends of friends - try it!\n",
    "for user in friendships:\n",
    "    #print(user)\n",
    "    foaf_dict = {user:[]}\n",
    "    for friend_id in friendships[user]:\n",
    "        #print(friend_id)\n",
    "        for foaf_id in friendships[friend_id]:\n",
    "             #print(user,foaf_id)\n",
    "             foaf_dict[user].append(foaf_id)\n",
    "    print(foaf_dict)\n",
    "\n",
    "#below, the list comprehension for the the code above\n",
    "def foaf_ids_bad(user):\n",
    "    return [foaf_id for friend_id in friendships[user['id']] for foaf_id in friendships[friend_id]]"
   ]
  },
  {
   "cell_type": "markdown",
   "metadata": {},
   "source": [
    "Counting friends in common (shared friends)"
   ]
  },
  {
   "cell_type": "code",
   "execution_count": 13,
   "metadata": {},
   "outputs": [
    {
     "name": "stdout",
     "output_type": "stream",
     "text": [
      "Counter({0: 2, 5: 1})\n"
     ]
    }
   ],
   "source": [
    "from collections import Counter\n",
    "\n",
    "def friends_of_friends(user):\n",
    "    user_id = user['id']\n",
    "    return Counter(\n",
    "        foaf_id\n",
    "        for friend_id in friendships[user_id]\n",
    "        for foaf_id in friendships[friend_id]\n",
    "        if foaf_id != user_id\n",
    "        and foaf_id not in friendships[user_id]\n",
    "    )\n",
    "print(friends_of_friends(users[3]))"
   ]
  },
  {
   "cell_type": "code",
   "execution_count": 14,
   "metadata": {},
   "outputs": [],
   "source": [
    "interests = [\n",
    "    (0,'Hadoop'), (0,'Big Data'), (0,'HBase'), (0, 'Java'),\n",
    "    (0,'Spark'), (0,'Storm'), (0,'Cassandra'),\n",
    "    (1,'NoSQL'), (1,'MongoDB'), (1,'Cassandra'), (1,'HBase'),\n",
    "    (1,'Postgres'), (2,'Python'), (2,'scikit-learn'), (2,'scipy'),\n",
    "    (2,'numpy'), (2,'statsmodel'), (2,'pandas'), (3,'R'), (3,'Python'),\n",
    "    (3,'statistics'), (3,'regression'), (3,'probability'),\n",
    "    (4,'machine learning'), (4,'regression'), (4,'decision trees'),\n",
    "    (4,'libsvm'), (5,'Python'), (5,'R'), (5,'Java'), (5,'C++'),\n",
    "    (5,'Haskell'), (5,'programming languages'), (6,'statistics'),\n",
    "    (6,'probability'), (6,'mathematics'), (6,'theory'),\n",
    "    (7,'machine learning'), (7,'scikit-learn'), (7,'Mahout'),\n",
    "    (7,'neural networks'), (8,'neural networks'), (8,'deep learning'),\n",
    "    (8,'Big Data'), (8,'artificial inteligence'), (9,'Hadoop'),\n",
    "    (9,'Java'), (9,'MapReduce'), (9,'Big Data')\n",
    "]"
   ]
  },
  {
   "cell_type": "markdown",
   "metadata": {},
   "source": [
    "Users with same interests"
   ]
  },
  {
   "cell_type": "code",
   "execution_count": 15,
   "metadata": {},
   "outputs": [],
   "source": [
    "def data_scientists_who_like(target_interest):\n",
    "    return [user_id\n",
    "            for user_id, user_interest in interests\n",
    "            if user_interest == target_interest]"
   ]
  },
  {
   "cell_type": "code",
   "execution_count": 16,
   "metadata": {},
   "outputs": [
    {
     "name": "stdout",
     "output_type": "stream",
     "text": [
      "defaultdict(<class 'list'>, {})\n",
      "defaultdict(<class 'list'>, {'Hadoop': [0, 9], 'Big Data': [0, 8, 9], 'HBase': [0, 1], 'Java': [0, 5, 9], 'Spark': [0], 'Storm': [0], 'Cassandra': [0, 1], 'NoSQL': [1], 'MongoDB': [1], 'Postgres': [1], 'Python': [2, 3, 5], 'scikit-learn': [2, 7], 'scipy': [2], 'numpy': [2], 'statsmodel': [2], 'pandas': [2], 'R': [3, 5], 'statistics': [3, 6], 'regression': [3, 4], 'probability': [3, 6], 'machine learning': [4, 7], 'decision trees': [4], 'libsvm': [4], 'C++': [5], 'Haskell': [5], 'programming languages': [5], 'mathematics': [6], 'theory': [6], 'Mahout': [7], 'neural networks': [7, 8], 'deep learning': [8], 'artificial inteligence': [8], 'MapReduce': [9]})\n"
     ]
    }
   ],
   "source": [
    "from collections import defaultdict\n",
    "\n",
    "user_ids_by_interest = defaultdict(list)\n",
    "print(user_ids_by_interest)\n",
    "\n",
    "for user_id, interest in interests:\n",
    "    user_ids_by_interest[interest].append(user_id)\n",
    "print(user_ids_by_interest)"
   ]
  },
  {
   "cell_type": "code",
   "execution_count": 17,
   "metadata": {},
   "outputs": [
    {
     "name": "stdout",
     "output_type": "stream",
     "text": [
      "defaultdict(<class 'list'>, {})\n",
      "defaultdict(<class 'list'>, {0: ['Hadoop', 'Big Data', 'HBase', 'Java', 'Spark', 'Storm', 'Cassandra'], 1: ['NoSQL', 'MongoDB', 'Cassandra', 'HBase', 'Postgres'], 2: ['Python', 'scikit-learn', 'scipy', 'numpy', 'statsmodel', 'pandas'], 3: ['R', 'Python', 'statistics', 'regression', 'probability'], 4: ['machine learning', 'regression', 'decision trees', 'libsvm'], 5: ['Python', 'R', 'Java', 'C++', 'Haskell', 'programming languages'], 6: ['statistics', 'probability', 'mathematics', 'theory'], 7: ['machine learning', 'scikit-learn', 'Mahout', 'neural networks'], 8: ['neural networks', 'deep learning', 'Big Data', 'artificial inteligence'], 9: ['Hadoop', 'Java', 'MapReduce', 'Big Data']})\n"
     ]
    }
   ],
   "source": [
    "interests_by_user_id = defaultdict(list)\n",
    "print(interests_by_user_id)\n",
    "\n",
    "for user_id, interest in interests:\n",
    "    interests_by_user_id[user_id].append(interest)\n",
    "print(interests_by_user_id)"
   ]
  },
  {
   "cell_type": "markdown",
   "metadata": {},
   "source": [
    "Most common interests"
   ]
  },
  {
   "cell_type": "code",
   "execution_count": 18,
   "metadata": {},
   "outputs": [
    {
     "name": "stdout",
     "output_type": "stream",
     "text": [
      "Counter({5: 2, 6: 2, 2: 1, 4: 1})\n"
     ]
    }
   ],
   "source": [
    "def most_common_interests_with(user):\n",
    "    return Counter(\n",
    "        interested_user_id\n",
    "        for interest in interests_by_user_id[user['id']]\n",
    "        for interested_user_id in user_ids_by_interest[interest]\n",
    "        if interested_user_id != user['id']\n",
    "    )\n",
    "\n",
    "print(most_common_interests_with(users[3]))"
   ]
  },
  {
   "cell_type": "markdown",
   "metadata": {},
   "source": [
    "Profits and experience"
   ]
  },
  {
   "cell_type": "code",
   "execution_count": 19,
   "metadata": {},
   "outputs": [],
   "source": [
    "salaries_and_ternure = [(83000,8.7), (88000,8.1),\n",
    "                        (48000,0.7), (76000,6),\n",
    "                        (69000,6.5), (76000,7.5),\n",
    "                        (60000,2.5), (83000,10),\n",
    "                        (48000,1.9), (63000,4.2)]"
   ]
  },
  {
   "cell_type": "code",
   "execution_count": 20,
   "metadata": {},
   "outputs": [
    {
     "name": "stdout",
     "output_type": "stream",
     "text": [
      "profits =  [83000, 88000, 48000, 76000, 69000, 76000, 60000, 83000, 48000, 63000]\n",
      "experience =  [8.7, 8.1, 0.7, 6, 6.5, 7.5, 2.5, 10, 1.9, 4.2]\n"
     ]
    },
    {
     "data": {
      "image/png": "[encoded data removed]",
      "text/plain": [
       "<Figure size 432x288 with 1 Axes>"
      ]
     },
     "metadata": {},
     "output_type": "display_data"
    }
   ],
   "source": [
    "#I created this part of the code because it was not available on the chapter 1. This part was used to  plot the graph on figure 1-3\n",
    "from matplotlib import pyplot as plt\n",
    "\n",
    "#find a list of profits and a list of experience from the 'salaries_and_ternure'. This code is similar to that for 'friendships'\n",
    "profits = []\n",
    "experience = []\n",
    "\n",
    "for i,j in salaries_and_ternure:\n",
    "    profits.append(i)\n",
    "    experience.append(j)\n",
    "print('profits = ',profits)\n",
    "print('experience = ',experience)\n",
    "\n",
    "#this code below is similar to that one for figure 3-7 (chapter 3)\n",
    "plt.scatter(experience,profits)\n",
    "\n",
    "#add title\n",
    "plt.title('Profits vs Years of Experience')\n",
    "\n",
    "#add legend to the 'x' axis\n",
    "plt.ylabel('Profit')\n",
    "plt.xlabel('Years of Experience')\n",
    "\n",
    "plt.show()"
   ]
  },
  {
   "cell_type": "markdown",
   "metadata": {},
   "source": [
    "Profits averages by years of experience"
   ]
  },
  {
   "cell_type": "code",
   "execution_count": 22,
   "metadata": {},
   "outputs": [
    {
     "name": "stdout",
     "output_type": "stream",
     "text": [
      "defaultdict(<class 'list'>, {})\n"
     ]
    }
   ],
   "source": [
    "salary_by_ternure = defaultdict(list)\n",
    "print(salary_by_ternure)"
   ]
  },
  {
   "cell_type": "code",
   "execution_count": 25,
   "metadata": {},
   "outputs": [
    {
     "name": "stdout",
     "output_type": "stream",
     "text": [
      "defaultdict(<class 'list'>, {8.7: [83000, 83000], 8.1: [88000, 88000], 0.7: [48000, 48000], 6: [76000, 76000], 6.5: [69000, 69000], 7.5: [76000, 76000], 2.5: [60000, 60000], 10: [83000, 83000], 1.9: [48000, 48000], 4.2: [63000, 63000]})\n"
     ]
    }
   ],
   "source": [
    "for salary, ternure in salaries_and_ternure:\n",
    "    salary_by_ternure[ternure].append(salary)\n",
    "print(salary_by_ternure)"
   ]
  },
  {
   "cell_type": "code",
   "execution_count": 27,
   "metadata": {},
   "outputs": [
    {
     "name": "stdout",
     "output_type": "stream",
     "text": [
      "{8.7: 83000.0, 8.1: 88000.0, 0.7: 48000.0, 6: 76000.0, 6.5: 69000.0, 7.5: 76000.0, 2.5: 60000.0, 10: 83000.0, 1.9: 48000.0, 4.2: 63000.0}\n"
     ]
    }
   ],
   "source": [
    "average_salary_by_ternure = {\n",
    "    ternure: sum(salaries) / len(salaries) for ternure, salaries in salary_by_ternure.items()\n",
    "}\n",
    "print(average_salary_by_ternure)"
   ]
  },
  {
   "cell_type": "markdown",
   "metadata": {},
   "source": [
    "Creating buckets based on experience"
   ]
  },
  {
   "cell_type": "code",
   "execution_count": 28,
   "metadata": {},
   "outputs": [
    {
     "name": "stdout",
     "output_type": "stream",
     "text": [
      "defaultdict(<class 'list'>, {'more than five': [83000, 88000, 76000, 69000, 76000, 83000], 'less than two': [48000, 48000], 'between two and five': [60000, 63000]})\n",
      "{'more than five': 79166.66666666667, 'less than two': 48000.0, 'between two and five': 61500.0}\n"
     ]
    }
   ],
   "source": [
    "def ternure_bucket(ternure):\n",
    "    if ternure < 2:\n",
    "        return 'less than two'\n",
    "    elif ternure < 5:\n",
    "        return 'between two and five'\n",
    "    else:\n",
    "        return 'more than five'\n",
    "\n",
    "#grouping the salaries in buckets\n",
    "salary_by_ternure_bucket = defaultdict(list)\n",
    "\n",
    "for salary, ternure in salaries_and_ternure:\n",
    "    bucket = ternure_bucket(ternure)\n",
    "    salary_by_ternure_bucket[bucket].append(salary)\n",
    "print(salary_by_ternure_bucket)\n",
    "\n",
    "average_salary_by_bucket = {\n",
    "    ternure_bucket: sum(salaries) / len(salaries)\n",
    "    for ternure_bucket, salaries in salary_by_ternure_bucket.items()\n",
    "}\n",
    "print(average_salary_by_bucket)\n"
   ]
  },
  {
   "cell_type": "markdown",
   "metadata": {},
   "source": [
    "Topics of interests"
   ]
  },
  {
   "cell_type": "code",
   "execution_count": 37,
   "metadata": {},
   "outputs": [
    {
     "name": "stdout",
     "output_type": "stream",
     "text": [
      "Counter({'big': 3, 'data': 3, 'java': 3, 'python': 3, 'learning': 3, 'hadoop': 2, 'hbase': 2, 'cassandra': 2, 'scikit-learn': 2, 'r': 2, 'statistics': 2, 'regression': 2, 'probability': 2, 'machine': 2, 'neural': 2, 'networks': 2, 'spark': 1, 'storm': 1, 'nosql': 1, 'mongodb': 1, 'postgres': 1, 'scipy': 1, 'numpy': 1, 'statsmodel': 1, 'pandas': 1, 'decision': 1, 'trees': 1, 'libsvm': 1, 'c++': 1, 'haskell': 1, 'programming': 1, 'languages': 1, 'mathematics': 1, 'theory': 1, 'mahout': 1, 'deep': 1, 'artificial': 1, 'inteligence': 1, 'mapreduce': 1})\n",
      "big 3\n",
      "data 3\n",
      "java 3\n",
      "python 3\n",
      "learning 3\n",
      "hadoop 2\n",
      "hbase 2\n",
      "cassandra 2\n",
      "scikit-learn 2\n",
      "r 2\n",
      "statistics 2\n",
      "regression 2\n",
      "probability 2\n",
      "machine 2\n",
      "neural 2\n",
      "networks 2\n"
     ]
    }
   ],
   "source": [
    "words_and_counts = Counter(word for user, interest in interests\n",
    "                            for word in interest.lower().split())\n",
    "print(words_and_counts)\n",
    "\n",
    "for word, count in words_and_counts. most_common():\n",
    "    if count > 1:\n",
    "        print(word,count)"
   ]
  }
 ],
 "metadata": {
  "interpreter": {
   "hash": "56840ef646b9d68b27999cc8c98b109e0083f590c8c9cb7a5c2f5f55e33991c8"
  },
  "kernelspec": {
   "display_name": "Python 3.10.1 64-bit ('venv': venv)",
   "language": "python",
   "name": "python3"
  },
  "language_info": {
   "codemirror_mode": {
    "name": "ipython",
    "version": 3
   },
   "file_extension": ".py",
   "mimetype": "text/x-python",
   "name": "python",
   "nbconvert_exporter": "python",
   "pygments_lexer": "ipython3",
   "version": "3.10.1"
  },
  "orig_nbformat": 4
 },
 "nbformat": 4,
 "nbformat_minor": 2
}
