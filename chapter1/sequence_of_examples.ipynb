{
 "cells": [
  {
   "cell_type": "markdown",
   "metadata": {},
   "source": [
    "CHAPTER 1 - INTRODUCTION\n",
    "On this chapter Joel describe very quickly the initial uses of data analysis with an \"real\" example.\n",
    "I advise you to not start executing exercises of this chapter 1 until you have arrived on chapter 4. If you know Pyton programming, there is not a huge problem if you run the examples, but until chapter 3, Joel give us some basics that will help to understand the examples; It was helpful, because he presented his manner of writting code that helped to understand many steps."
   ]
  },
  {
   "cell_type": "code",
   "execution_count": 4,
   "metadata": {},
   "outputs": [
    {
     "name": "stdout",
     "output_type": "stream",
     "text": [
      "[{'id': 0, 'name': 'Hero'}, {'id': 1, 'name': 'Dunn'}, {'id': 2, 'name': 'Sue'}, {'id': 3, 'name': 'Chi'}, {'id': 4, 'name': 'Thor'}, {'id': 5, 'name': 'Clive'}, {'id': 6, 'name': 'Hicks'}, {'id': 7, 'name': 'Devin'}, {'id': 8, 'name': 'Kate'}, {'id': 9, 'name': 'Klein'}]\n"
     ]
    }
   ],
   "source": [
    "'''\n",
    "Instead of \"typing\" the dictionary, I've used the examples to create the \"users\"\n",
    "After reading the chapter 3 it will be possible to create this dictionary from a common list of names!\n",
    "'''\n",
    "users_list = [(0,'Hero'),(1,'Dunn'),(2,'Sue'),(3,'Chi'),(4,'Thor'),(5,'Clive'),(6,'Hicks'),(7,'Devin'),(8,'Kate'),(9,'Klein')] #list of tuples with the 'users id' and 'usernames'\n",
    "users = [{'id':id_value,'name':username} for id_value,username in users_list] #list comprehension to create the dictionary 'users'\n",
    "print(users)"
   ]
  },
  {
   "cell_type": "code",
   "execution_count": 5,
   "metadata": {},
   "outputs": [],
   "source": [
    "friendship_pairs = [(0,1),(0,2),(1,2),(1,3),(2,3),(3,4),(4,5),(5,6),(5,7),(6,8),(7,8),(8,9)]"
   ]
  },
  {
   "cell_type": "code",
   "execution_count": 6,
   "metadata": {},
   "outputs": [
    {
     "name": "stdout",
     "output_type": "stream",
     "text": [
      "{0: [], 1: [], 2: [], 3: [], 4: [], 5: [], 6: [], 7: [], 8: [], 9: []}\n"
     ]
    }
   ],
   "source": [
    "friendships = {user['id']:[] for user in users} #creating a dict with an empty list to each user (the friends will be appended in the lists for each user)\n",
    "print(friendships)"
   ]
  },
  {
   "cell_type": "code",
   "execution_count": 9,
   "metadata": {},
   "outputs": [
    {
     "name": "stdout",
     "output_type": "stream",
     "text": [
      "{0: [1, 2, 1, 2, 1, 2], 1: [0, 2, 3, 0, 2, 3, 0, 2, 3], 2: [0, 1, 3, 0, 1, 3, 0, 1, 3], 3: [1, 2, 4, 1, 2, 4, 1, 2, 4], 4: [3, 5, 3, 5, 3, 5], 5: [4, 6, 7, 4, 6, 7, 4, 6, 7], 6: [5, 8, 5, 8, 5, 8], 7: [5, 8, 5, 8, 5, 8], 8: [6, 7, 9, 6, 7, 9, 6, 7, 9], 9: [8, 8, 8]}\n"
     ]
    }
   ],
   "source": [
    "for i,j in friendship_pairs: #iterating on each tuple\n",
    "    friendships[i].append(j)\n",
    "    friendships[j].append(i)\n",
    "#if 'user 0' is friend of 'user 1', the inverse is true!\n",
    "\n",
    "print(friendships)"
   ]
  },
  {
   "cell_type": "code",
   "execution_count": null,
   "metadata": {},
   "outputs": [],
   "source": [
    "def number_of_friends(user):\n",
    "    '''How many friend does the user have?'''\n",
    "    user_id = user['id']\n",
    "    friend_ids = friendships[user_id]\n",
    "    return len(friend_ids)\n",
    "    "
   ]
  }
 ],
 "metadata": {
  "interpreter": {
   "hash": "56840ef646b9d68b27999cc8c98b109e0083f590c8c9cb7a5c2f5f55e33991c8"
  },
  "kernelspec": {
   "display_name": "Python 3.10.1 64-bit ('venv': venv)",
   "language": "python",
   "name": "python3"
  },
  "language_info": {
   "codemirror_mode": {
    "name": "ipython",
    "version": 3
   },
   "file_extension": ".py",
   "mimetype": "text/x-python",
   "name": "python",
   "nbconvert_exporter": "python",
   "pygments_lexer": "ipython3",
   "version": "3.10.1"
  },
  "orig_nbformat": 4
 },
 "nbformat": 4,
 "nbformat_minor": 2
}
